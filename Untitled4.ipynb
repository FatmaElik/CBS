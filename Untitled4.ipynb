{
  "nbformat": 4,
  "nbformat_minor": 0,
  "metadata": {
    "colab": {
      "provenance": []
    },
    "kernelspec": {
      "name": "python3",
      "display_name": "Python 3"
    },
    "language_info": {
      "name": "python"
    }
  },
  "cells": [
    {
      "cell_type": "markdown",
      "source": [
        "# 1. Bina çatı featurı çıkartma"
      ],
      "metadata": {
        "id": "moj735MEa3Ir"
      }
    },
    {
      "cell_type": "markdown",
      "source": [
        "## Google Colab\n"
      ],
      "metadata": {
        "id": "FrFQss3TUg6E"
      }
    },
    {
      "cell_type": "code",
      "execution_count": null,
      "metadata": {
        "id": "AHKe_8gyzNR3"
      },
      "outputs": [],
      "source": [
        "from google.colab import drive\n",
        "drive.mount('/content/drive')"
      ]
    },
    {
      "cell_type": "code",
      "source": [
        "import os \n",
        "os.getcwd()"
      ],
      "metadata": {
        "id": "cFdCnq4YUkfx"
      },
      "execution_count": null,
      "outputs": []
    },
    {
      "cell_type": "code",
      "source": [
        "import numpy as np\n",
        "import pandas as pd\n",
        "\n",
        "import torch\n",
        "import torchvision\n",
        "import torch.nn as nn\n",
        "import torch.optim as optim\n",
        "from torchvision import datasets, models, transforms\n",
        "from torch.utils.data.sampler import SubsetRandomSampler\n",
        "\n",
        "import matplotlib.pyplot as plt\n",
        "import time\n",
        "import copy\n",
        "from random import shuffle\n",
        "\n",
        "import tqdm.notebook as tqdm\n",
        "\n",
        "import sklearn\n",
        "from sklearn.metrics import accuracy_score, cohen_kappa_score\n",
        "from sklearn.metrics import classification_report\n",
        "from PIL import Image\n",
        "import cv2\n",
        "\n",
        "import os\n",
        "import shutil"
      ],
      "metadata": {
        "id": "D97p7j8ZUkeI"
      },
      "execution_count": null,
      "outputs": []
    },
    {
      "cell_type": "code",
      "source": [
        "torch.cuda.is_available()"
      ],
      "metadata": {
        "id": "ygNNTpS7UkcD"
      },
      "execution_count": null,
      "outputs": []
    },
    {
      "cell_type": "code",
      "source": [
        "data_path='/content/drive/My Drive/0_CBS/data/images_256'\n",
        "train_path='/content/drive/My Drive/0_CBS/data/images_256/train'\n",
        "val_path='/content/drive/My Drive/0_CBS/data/images_256/val'\n",
        "test_path='/content/drive/My Drive/0_CBS/data/images_256/test'"
      ],
      "metadata": {
        "id": "e94mnvV8VN9J"
      },
      "execution_count": null,
      "outputs": []
    },
    {
      "cell_type": "code",
      "source": [
        "from sklearn.model_selection import train_test_split\n",
        "# Split into training and test set\n",
        "X_train, X_test, y_train, y_test = train_test_split(X, y, test_size = 0.1, random_state=42, stratify=y)"
      ],
      "metadata": {
        "id": "ljJpfywQUkak"
      },
      "execution_count": null,
      "outputs": []
    },
    {
      "cell_type": "code",
      "source": [
        "data_path = 'C:\\Users\\Fatma\\Desktop\\CBS\\data'\n",
        "print(\"data_path = \",data_path)\n",
        "\n",
        "train_path = os.path.join(DATA_PATH, \"train/\")\n",
        "print(\"train_path = \", train_path)\n",
        "\n",
        "test_path = os.path.join(DATA_PATH, \"test/\")\n",
        "print(\"TEST_PATH = \",VAL_PATH)"
      ],
      "metadata": {
        "id": "5XQhNHqnUkYS"
      },
      "execution_count": null,
      "outputs": []
    },
    {
      "cell_type": "code",
      "source": [
        "class Dataset(BaseDataset):\n",
        "\n",
        "    \n",
        "    CLASSES = ['building']\n",
        "    \n",
        "    def __init__(\n",
        "            self, \n",
        "            images_dir, \n",
        "            masks_dir, \n",
        "            classes=None, \n",
        "            augmentation=None, \n",
        "            preprocessing=None,\n",
        "    ):\n",
        "        self.ids = os.listdir(images_dir)\n",
        "        self.images_fps = [os.path.join(images_dir, image_id) for image_id in self.ids]\n",
        "        self.masks_fps = [os.path.join(masks_dir, image_id) for image_id in self.ids]\n",
        "        \n",
        "        # convert str names to class values on masks\n",
        "        self.class_values = [self.CLASSES.index(cls.lower()) for cls in classes]\n",
        "        \n",
        "        self.augmentation = augmentation\n",
        "        self.preprocessing = preprocessing\n",
        "    \n",
        "    def __getitem__(self, i):\n",
        "        \n",
        "        # read data\n",
        "        image = cv2.imread(self.images_fps[i])\n",
        "        image = cv2.cvtColor(image, cv2.COLOR_BGR2RGB)\n",
        "        mask = cv2.imread(self.masks_fps[i], 0)\n",
        "        \n",
        "        # extract certain classes from mask (e.g. cars)\n",
        "        masks = [(mask == v) for v in self.class_values]\n",
        "        mask = np.stack(masks, axis=-1).astype('float')\n",
        "        \n",
        "        # apply augmentations\n",
        "        if self.augmentation:\n",
        "            sample = self.augmentation(image=image, mask=mask)\n",
        "            image, mask = sample['image'], sample['mask']\n",
        "        \n",
        "        # apply preprocessing\n",
        "        if self.preprocessing:\n",
        "            sample = self.preprocessing(image=image, mask=mask)\n",
        "            image, mask = sample['image'], sample['mask']\n",
        "            \n",
        "        return image, mask\n",
        "        \n",
        "    def __len__(self):\n",
        "        return len(self.ids)"
      ],
      "metadata": {
        "id": "dcod20hyYj8z"
      },
      "execution_count": null,
      "outputs": []
    },
    {
      "cell_type": "code",
      "source": [
        "ENCODER = 'se_resnext101_32x4d'\n",
        "ENCODER_WEIGHTS = 'imagenet'\n",
        "CLASSES = ['building']\n",
        "ACTIVATION = 'sigmoid'\n",
        "DEVICE = 'cuda'\n",
        "\n",
        "model = smp.UnetPlusPlus(\n",
        "                encoder_name=ENCODER, \n",
        "                encoder_weights=ENCODER_WEIGHTS, \n",
        "                classes=len(CLASSES), \n",
        "                activation=ACTIVATION,\n",
        ")\n",
        "\n",
        "preprocessing_fn = smp.encoders.get_preprocessing_fn(ENCODER, ENCODER_WEIGHTS)"
      ],
      "metadata": {
        "id": "6dN2G9D7YnWi"
      },
      "execution_count": null,
      "outputs": []
    },
    {
      "cell_type": "code",
      "source": [
        "#Statistics Based on ImageNet Data for Normalisation\n",
        "mean_nums = [0.485, 0.456, 0.406]\n",
        "std_nums = [0.229, 0.224, 0.225]\n",
        "\n",
        "data_transforms = {\"train\":transforms.Compose([\n",
        "                                transforms.Resize((256,256)), #Resizes all images into same dimension\n",
        "                                transforms.ToTensor(), # Coverts into Tensors\n",
        "                                transforms.Normalize(mean = mean_nums, std=std_nums)]), # Normalizes\n",
        "                    \"test\": transforms.Compose([\n",
        "                                transforms.Resize((256,256)),\n",
        "                                transforms.ToTensor(),\n",
        "                                transforms.Normalize(mean=mean_nums, std = std_nums)\n",
        "                    ])}"
      ],
      "metadata": {
        "id": "85D1AhJrVJF-"
      },
      "execution_count": null,
      "outputs": []
    },
    {
      "cell_type": "code",
      "source": [
        "# Load saved checkpoint\n",
        "best_model = torch.load('/content/drive/My Drive/0_CBS/data/UnetPP_Istanbul.pth') # Path of the weights file"
      ],
      "metadata": {
        "id": "Ce1NzNC4YDXi"
      },
      "execution_count": null,
      "outputs": []
    },
    {
      "cell_type": "code",
      "source": [
        "x_test_dir = \"/content/drive/My Drive/0_CBS/data/images_256/test\"\n",
        "y_test_dir = \"TEST_IMAGE/\"  #??\n",
        "\n",
        "#Label yok"
      ],
      "metadata": {
        "id": "ln7T4J28ZCp6"
      },
      "execution_count": null,
      "outputs": []
    },
    {
      "cell_type": "code",
      "source": [
        "# Create test dataset\n",
        "test_dataset = Dataset(\n",
        "    x_test_dir, \n",
        "    y_test_dir, \n",
        "    augmentation=get_validation_augmentation(), \n",
        "    preprocessing=get_preprocessing(preprocessing_fn),\n",
        "    classes=CLASSES,\n",
        ")\n",
        "\n",
        "test_dataloader = DataLoader(test_dataset)"
      ],
      "metadata": {
        "id": "y9qbfF42ZV9S"
      },
      "execution_count": null,
      "outputs": []
    },
    {
      "cell_type": "markdown",
      "source": [
        "##Export training data vs Arcgis pro Notebbok"
      ],
      "metadata": {
        "id": "E0HOj76rzPH9"
      }
    },
    {
      "cell_type": "code",
      "source": [
        "import os\n",
        "from pathlib import Path\n",
        "\n",
        "import arcgis\n",
        "from arcgis.gis import GIS\n",
        "from arcgis.learn import prepare_data"
      ],
      "metadata": {
        "id": "I3WSKKLDzSEp"
      },
      "execution_count": null,
      "outputs": []
    },
    {
      "cell_type": "code",
      "source": [
        "gis = GIS('home')"
      ],
      "metadata": {
        "id": "iqXGXlDpzSUC"
      },
      "execution_count": null,
      "outputs": []
    },
    {
      "cell_type": "code",
      "source": [
        "model_item = gis.content.get('a6857359a1cd44839781a4f113cd5934')\n",
        "model_item"
      ],
      "metadata": {
        "id": "EOZWVDoZzSSR"
      },
      "execution_count": null,
      "outputs": []
    },
    {
      "cell_type": "code",
      "source": [
        "model_item = r('D:\\ArcGIS\\Projects\\CBS\\CBS\\usa_building_footprints.dlpk')\n",
        "model_item"
      ],
      "metadata": {
        "id": "ZZnx0hU1zSLi"
      },
      "execution_count": null,
      "outputs": []
    },
    {
      "cell_type": "code",
      "source": [
        "model_path_ = model_item.download(file_name=model_item.name)"
      ],
      "metadata": {
        "id": "MFjqwwoSzSJU"
      },
      "execution_count": null,
      "outputs": []
    },
    {
      "cell_type": "code",
      "source": [
        "#3 band\n",
        "#256x256\n",
        "\n",
        "data=prepare_data(r'D:\\ArcGIS\\Projects\\CBS\\CBS\\data',\n",
        "                  chip_size=256)"
      ],
      "metadata": {
        "id": "ZbhTGzeJzSHK"
      },
      "execution_count": null,
      "outputs": []
    },
    {
      "cell_type": "code",
      "source": [
        "filepath = training_data.download(file_name=training_data.name)"
      ],
      "metadata": {
        "id": "caFJqwiWz7r5"
      },
      "execution_count": null,
      "outputs": []
    },
    {
      "cell_type": "code",
      "source": [
        "import os\n",
        "from pathlib import Path\n",
        "\n",
        "import arcgis\n",
        "from arcgis.gis import GIS\n",
        "from arcgis.learn import prepare_data, FeatureClassifier"
      ],
      "metadata": {
        "id": "DXDnx0QfTNpk"
      },
      "execution_count": null,
      "outputs": []
    },
    {
      "cell_type": "code",
      "source": [
        "path=r'D:\\ArcGIS\\Projects\\CBS\\CBS\\data\\export_data_256_bbox'"
      ],
      "metadata": {
        "id": "j2W7HLCOTR3v"
      },
      "execution_count": null,
      "outputs": []
    },
    {
      "cell_type": "code",
      "source": [
        "data=prepare_data(path,\n",
        "                  chip_size=256)"
      ],
      "metadata": {
        "id": "QU0sK5QITRx7"
      },
      "execution_count": null,
      "outputs": []
    },
    {
      "cell_type": "code",
      "source": [
        "#4 band olduğu için görsel gözükmüyor\n",
        "data.show_batch(rows=4)"
      ],
      "metadata": {
        "id": "QihMisCOTUxx"
      },
      "execution_count": null,
      "outputs": []
    },
    {
      "cell_type": "code",
      "source": [
        "#hazır modeli indirdik.\n",
        "#veride mask/ label yok hazır eğitilmiş model kısa sürede veriyi eğitir\n",
        "model_item = gis.content.get('a6857359a1cd44839781a4f113cd5934') #arcgis Atlasta hazır mdoeller var\n",
        "model_item"
      ],
      "metadata": {
        "id": "NeeC-bdVTRv0"
      },
      "execution_count": null,
      "outputs": []
    },
    {
      "cell_type": "code",
      "source": [
        "model_item=(r'D:\\ArcGIS\\Projects\\CBS\\CBS\\usa_building_footprints.dlpk')"
      ],
      "metadata": {
        "id": "rVzRKV24TRuG"
      },
      "execution_count": null,
      "outputs": []
    },
    {
      "cell_type": "code",
      "source": [
        "model_path_ = model_item.download(file_name=model_item.name)"
      ],
      "metadata": {
        "id": "mTeYqAOdTRr7"
      },
      "execution_count": null,
      "outputs": []
    },
    {
      "cell_type": "code",
      "source": [
        "from arcgis.learn import MaskRCNN\n",
        "model = MaskRCNN.from_model(model_path, data)"
      ],
      "metadata": {
        "id": "0BBJRlTQTRpT"
      },
      "execution_count": null,
      "outputs": []
    },
    {
      "cell_type": "code",
      "source": [
        "model.show_results()"
      ],
      "metadata": {
        "id": "NqpiFw0HT0sN"
      },
      "execution_count": null,
      "outputs": []
    },
    {
      "cell_type": "code",
      "source": [
        "lr = model.lr_find()\n",
        "lr"
      ],
      "metadata": {
        "id": "Minl6KgfT0qO"
      },
      "execution_count": null,
      "outputs": []
    },
    {
      "cell_type": "code",
      "source": [
        "model.fit(10,lr=lr)"
      ],
      "metadata": {
        "id": "uiy2_kzgT0mR"
      },
      "execution_count": null,
      "outputs": []
    },
    {
      "cell_type": "code",
      "source": [
        "model.show_results()"
      ],
      "metadata": {
        "id": "OsC9AlvdT0kL"
      },
      "execution_count": null,
      "outputs": []
    },
    {
      "cell_type": "code",
      "source": [
        "model.show_results()"
      ],
      "metadata": {
        "id": "IkkuplNYT0iT"
      },
      "execution_count": null,
      "outputs": []
    },
    {
      "cell_type": "code",
      "source": [
        "model.show_results(mode='bbox_mask')"
      ],
      "metadata": {
        "id": "MHWsoYoTT0eD"
      },
      "execution_count": null,
      "outputs": []
    },
    {
      "cell_type": "code",
      "source": [
        "model.save('Building_footprint_10epochs')"
      ],
      "metadata": {
        "id": "X_WgYiMmT0Wx"
      },
      "execution_count": null,
      "outputs": []
    },
    {
      "cell_type": "code",
      "source": [
        "#create mosaic dataset\n",
        "#görüntüyü birleştirmek için boş dataset oluşturdum\n",
        "with arcpy.EnvManager(outputCoordinateSystem='PROJCS[\"WGS_1984_Web_Mercator_Auxiliary_Sphere\",GEOGCS[\"GCS_WGS_1984\",DATUM[\"D_WGS_1984\",SPHEROID[\"WGS_1984\",6378137.0,298.257223563]],PRIMEM[\"Greenwich\",0.0],UNIT[\"Degree\",0.0174532925199433]],PROJECTION[\"Mercator_Auxiliary_Sphere\"],PARAMETER[\"False_Easting\",0.0],PARAMETER[\"False_Northing\",0.0],PARAMETER[\"Central_Meridian\",0.0],PARAMETER[\"Standard_Parallel_1\",0.0],PARAMETER[\"Auxiliary_Sphere_Type\",0.0],UNIT[\"Meter\",1.0]]'):\n",
        "    arcpy.management.CreateMosaicDataset(r\"D:\\ArcGIS\\Projects\\CBS\\CBS\\CBS.gdb\", \"mosaic_datset\", \n",
        "                                         'PROJCS[\"TMSUDAN\",GEOGCS[\"GCS_WGS_1984\",DATUM[\"D_WGS_1984\",SPHEROID[\"WGS_1984\",6378137.0,298.257223563]],\n",
        "                                         PRIMEM[\"Greenwich\",0.0],UNIT[\"Degree\",0.0174532925199433]],PROJECTION[\"Transverse_Mercator\"],\n",
        "                                         PARAMETER[\"false_easting\",500000.0],PARAMETER[\"false_northing\",0.0],PARAMETER[\"central_meridian\",30.0],\n",
        "                                         PARAMETER[\"scale_factor\",1.0],PARAMETER[\"latitude_of_origin\",0.0],UNIT[\"Meter\",1.0]]', 3, \"8_BIT_UNSIGNED\", \"NONE\", None)"
      ],
      "metadata": {
        "id": "2kO6jiDBUF-K"
      },
      "execution_count": null,
      "outputs": []
    },
    {
      "cell_type": "code",
      "source": [
        "#add rasters to mosaic\n",
        "#4 band ve masksız görüntüyü boş verisetine koydum\n",
        "\n",
        "with arcpy.EnvManager(extent='410739.275237682 4543798.95414493 410931.905962318 4543902.12585507 ,\n",
        "):\n",
        "    arcpy.management.AddRastersToMosaicDataset(\"mosaic_datset\", \"Raster Dataset\", r\"D:\\ArcGIS\\Projects\\CBS\\CBS\\data\\data\",\n",
        "\n",
        "                                                \"NO_FORCE_SPATIAL_REFERENCE\", \"NO_STATISTICS\", None, \"NO_PIXEL_CACHE\", r\"C:\\Users\\Fatma\\AppData\\Local\\ESRI\\rasterproxies\\mosaic_datset\")"
      ],
      "metadata": {
        "id": "NO2We6WdUF8E"
      },
      "execution_count": null,
      "outputs": []
    },
    {
      "cell_type": "code",
      "source": [
        "#export training data\n",
        "#3 band 256x256  metadata: classified tiles olarak olarak yeniden hazırladım\n",
        "#maskları olmayan dataya hazır etiketli veriden hazırlanmış modeli uyguladım (transfer learning)\n",
        "with arcpy.EnvManager(extent='410677.550126938 4543177.26 411812.831073063 4543909.42 PROJCS[\"TMSUDAN\",\n",
        "GEOGCS[\"GCS_WGS_1984\",DATUM[\"D_WGS_1984\",SPHEROID[\"WGS_1984\",6378137.0,298.257223563]],\n",
        "       PRIMEM[\"Greenwich\",0.0],UNIT[\"Degree\",0.0174532925199433]],PROJECTION[\"Transverse_Mercator\"],\n",
        "       PARAMETER[\"false_easting\",500000.0],PARAMETER[\"false_northing\",0.0],PARAMETER[\"central_meridian\",30.0],\n",
        "       PARAMETER[\"scale_factor\",1.0],PARAMETER[\"latitude_of_origin\",0.0],UNIT[\"Meter\",1.0]]'):\n",
        "    arcpy.ia.ExportTrainingDataForDeepLearning(\"mos_2\", r\"D:\\ArcGIS\\Projects\\CBS\\CBS\\data\\export_data_256_bbox\",\n",
        "                                               None, \"TIFF\", 256, 256, 128, 128, \"ONLY_TILES_WITH_FEATURES\", \n",
        "                                               \"Classified_Tiles\", 0, None, 0, None, 0, \"MAP_SPACE\", \n",
        "                                               \"PROCESS_AS_MOSAICKED_IMAGE\", \"NO_BLACKEN\", \"FIXED_SIZE\", None, None, None, 0)"
      ],
      "metadata": {
        "id": "KYG-b6LKUF6L"
      },
      "execution_count": null,
      "outputs": []
    },
    {
      "cell_type": "code",
      "source": [
        "#export training data\n",
        "#3 band 256x256  metadata: classified tiles olarak olarak yeniden hazırladım\n",
        "#maskları olmayan dataya hazır etiketli veriden hazırlanmış modeli uyguladım (transfer learning)\n",
        "with arcpy.EnvManager(extent='410677.550126938 4543177.26 411812.831073063 4543909.42 ):\n",
        "    arcpy.ia.ExportTrainingDataForDeepLearning(\"mos_2\", r\"D:\\ArcGIS\\Projects\\CBS\\CBS\\data\\export_data_256_bbox\",\n",
        "                                               None, \"TIFF\", 256, 256, 128, 128, \"ONLY_TILES_WITH_FEATURES\", \n",
        "                                               \"Classified_Tiles\", 0, None, 0, None, 0, \"MAP_SPACE\", \n",
        "                                               \"PROCESS_AS_MOSAICKED_IMAGE\", \"NO_BLACKEN\", \"FIXED_SIZE\", None, None, None, 0)"
      ],
      "metadata": {
        "id": "NmKBp5WsUF4a"
      },
      "execution_count": null,
      "outputs": []
    },
    {
      "cell_type": "code",
      "source": [
        "#Model Inference\n",
        "#Detect Object UDL\n",
        "\n",
        "#Classify Object Detection\n",
        "#transfer learning ile kendi verimize hazır model kullanıp (usa_building_footprints.dlpk) vakitten tasarruf ederiz\n",
        "\n",
        "with arcpy.EnvManager(extent='410965.834537529 4543617.26143598 411156.303074067 4543740.09750065 ,\n",
        " processorType=\"GPU\"):\n",
        "    out_classified_raster = arcpy.ia.DetectObjectsUsingDeepLearning(\"mosaic2\", \n",
        "                                                                    r\"D:\\ArcGIS\\Projects\\CBS\\CBS\\CBS.gdb\\mosaic2_output\",\n",
        "                                                                    r\"D:\\ArcGIS\\Projects\\CBS\\CBS\\usa_building_footprints.dlpk\", \n",
        "                                                                    \"padding 128;batch_size 2;threshold 0.9;return_bboxes False;tile_size 256\",\n",
        "                                                                    \"NO_NMS\", \"Confidence\", \"Class\", 0, \"PROCESS_AS_MOSAICKED_IMAGE\"); out_classified_raster.save(None)"
      ],
      "metadata": {
        "id": "Cln_wLk9UF2d"
      },
      "execution_count": null,
      "outputs": []
    },
    {
      "cell_type": "code",
      "source": [
        "test_time_augmentation augmentation için kullanılır. (flip ve rotation)\n"
      ],
      "metadata": {
        "id": "qEfFs3sgUF0d"
      },
      "execution_count": null,
      "outputs": []
    },
    {
      "cell_type": "code",
      "source": [
        "#regulize bbox\n",
        "\n",
        "with arcpy.EnvManager(extent='410411.163065505 4542934.35707129 412185.039543825 4544078.35707129' , processorType=\"GPU\"):\n",
        "    arcpy.ddd.RegularizeBuildingFootprint(\"mos_2_aabb\", r\"D:\\ArcGIS\\Projects\\CBS\\CBS\\CBS.gdb\\mos_2_aabb_RegularizeBuildin\", \"RIGHT_ANGLES\", 1, None, 0.25, 1.5, 0.1, 1000000, None, None, \"DISTANCE\")"
      ],
      "metadata": {
        "id": "fYNDnLpXUFyz"
      },
      "execution_count": null,
      "outputs": []
    },
    {
      "cell_type": "code",
      "source": [],
      "metadata": {
        "id": "UQPD8_PCUFwz"
      },
      "execution_count": null,
      "outputs": []
    },
    {
      "cell_type": "code",
      "source": [],
      "metadata": {
        "id": "2dxteXqeUFvB"
      },
      "execution_count": null,
      "outputs": []
    }
  ]
}